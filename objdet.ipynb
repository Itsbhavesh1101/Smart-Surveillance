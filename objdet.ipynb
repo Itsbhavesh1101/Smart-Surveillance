{
 "cells": [
  {
   "cell_type": "code",
   "execution_count": 1,
   "id": "0a293a36",
   "metadata": {},
   "outputs": [
    {
     "name": "stdout",
     "output_type": "stream",
     "text": [
      "Defaulting to user installation because normal site-packages is not writeable\n",
      "Requirement already satisfied: ultralytics in c:\\users\\barma\\appdata\\roaming\\python\\python313\\site-packages (8.3.131)\n",
      "Requirement already satisfied: numpy>=1.23.0 in c:\\users\\barma\\appdata\\roaming\\python\\python313\\site-packages (from ultralytics) (2.2.3)\n",
      "Requirement already satisfied: matplotlib>=3.3.0 in c:\\users\\barma\\appdata\\roaming\\python\\python313\\site-packages (from ultralytics) (3.10.1)\n",
      "Requirement already satisfied: opencv-python>=4.6.0 in c:\\users\\barma\\appdata\\roaming\\python\\python313\\site-packages (from ultralytics) (4.11.0.86)\n",
      "Requirement already satisfied: pillow>=7.1.2 in c:\\users\\barma\\appdata\\roaming\\python\\python313\\site-packages (from ultralytics) (11.1.0)\n",
      "Requirement already satisfied: pyyaml>=5.3.1 in c:\\users\\barma\\appdata\\roaming\\python\\python313\\site-packages (from ultralytics) (6.0.2)\n",
      "Requirement already satisfied: requests>=2.23.0 in c:\\users\\barma\\appdata\\roaming\\python\\python313\\site-packages (from ultralytics) (2.32.3)\n",
      "Requirement already satisfied: scipy>=1.4.1 in c:\\users\\barma\\appdata\\roaming\\python\\python313\\site-packages (from ultralytics) (1.15.3)\n",
      "Requirement already satisfied: torch>=1.8.0 in c:\\users\\barma\\appdata\\roaming\\python\\python313\\site-packages (from ultralytics) (2.7.0)\n",
      "Requirement already satisfied: torchvision>=0.9.0 in c:\\users\\barma\\appdata\\roaming\\python\\python313\\site-packages (from ultralytics) (0.22.0)\n",
      "Requirement already satisfied: tqdm>=4.64.0 in c:\\users\\barma\\appdata\\roaming\\python\\python313\\site-packages (from ultralytics) (4.67.1)\n",
      "Requirement already satisfied: psutil in c:\\users\\barma\\appdata\\roaming\\python\\python313\\site-packages (from ultralytics) (7.0.0)\n",
      "Requirement already satisfied: py-cpuinfo in c:\\users\\barma\\appdata\\roaming\\python\\python313\\site-packages (from ultralytics) (9.0.0)\n",
      "Requirement already satisfied: pandas>=1.1.4 in c:\\users\\barma\\appdata\\roaming\\python\\python313\\site-packages (from ultralytics) (2.2.3)\n",
      "Requirement already satisfied: seaborn>=0.11.0 in c:\\users\\barma\\appdata\\roaming\\python\\python313\\site-packages (from ultralytics) (0.13.2)\n",
      "Requirement already satisfied: ultralytics-thop>=2.0.0 in c:\\users\\barma\\appdata\\roaming\\python\\python313\\site-packages (from ultralytics) (2.0.14)\n",
      "Requirement already satisfied: contourpy>=1.0.1 in c:\\users\\barma\\appdata\\roaming\\python\\python313\\site-packages (from matplotlib>=3.3.0->ultralytics) (1.3.2)\n",
      "Requirement already satisfied: cycler>=0.10 in c:\\users\\barma\\appdata\\roaming\\python\\python313\\site-packages (from matplotlib>=3.3.0->ultralytics) (0.12.1)\n",
      "Requirement already satisfied: fonttools>=4.22.0 in c:\\users\\barma\\appdata\\roaming\\python\\python313\\site-packages (from matplotlib>=3.3.0->ultralytics) (4.57.0)\n",
      "Requirement already satisfied: kiwisolver>=1.3.1 in c:\\users\\barma\\appdata\\roaming\\python\\python313\\site-packages (from matplotlib>=3.3.0->ultralytics) (1.4.8)\n",
      "Requirement already satisfied: packaging>=20.0 in c:\\users\\barma\\appdata\\roaming\\python\\python313\\site-packages (from matplotlib>=3.3.0->ultralytics) (25.0)\n",
      "Requirement already satisfied: pyparsing>=2.3.1 in c:\\users\\barma\\appdata\\roaming\\python\\python313\\site-packages (from matplotlib>=3.3.0->ultralytics) (3.2.3)\n",
      "Requirement already satisfied: python-dateutil>=2.7 in c:\\users\\barma\\appdata\\roaming\\python\\python313\\site-packages (from matplotlib>=3.3.0->ultralytics) (2.9.0.post0)\n",
      "Requirement already satisfied: pytz>=2020.1 in c:\\users\\barma\\appdata\\roaming\\python\\python313\\site-packages (from pandas>=1.1.4->ultralytics) (2025.1)\n",
      "Requirement already satisfied: tzdata>=2022.7 in c:\\users\\barma\\appdata\\roaming\\python\\python313\\site-packages (from pandas>=1.1.4->ultralytics) (2025.1)\n",
      "Requirement already satisfied: six>=1.5 in c:\\users\\barma\\appdata\\roaming\\python\\python313\\site-packages (from python-dateutil>=2.7->matplotlib>=3.3.0->ultralytics) (1.17.0)\n",
      "Requirement already satisfied: charset-normalizer<4,>=2 in c:\\users\\barma\\appdata\\roaming\\python\\python313\\site-packages (from requests>=2.23.0->ultralytics) (3.4.2)\n",
      "Requirement already satisfied: idna<4,>=2.5 in c:\\users\\barma\\appdata\\roaming\\python\\python313\\site-packages (from requests>=2.23.0->ultralytics) (3.10)\n",
      "Requirement already satisfied: urllib3<3,>=1.21.1 in c:\\users\\barma\\appdata\\roaming\\python\\python313\\site-packages (from requests>=2.23.0->ultralytics) (2.4.0)\n",
      "Requirement already satisfied: certifi>=2017.4.17 in c:\\users\\barma\\appdata\\roaming\\python\\python313\\site-packages (from requests>=2.23.0->ultralytics) (2025.4.26)\n",
      "Requirement already satisfied: filelock in c:\\users\\barma\\appdata\\roaming\\python\\python313\\site-packages (from torch>=1.8.0->ultralytics) (3.18.0)\n",
      "Requirement already satisfied: typing-extensions>=4.10.0 in c:\\users\\barma\\appdata\\roaming\\python\\python313\\site-packages (from torch>=1.8.0->ultralytics) (4.13.2)\n",
      "Requirement already satisfied: sympy>=1.13.3 in c:\\users\\barma\\appdata\\roaming\\python\\python313\\site-packages (from torch>=1.8.0->ultralytics) (1.14.0)\n",
      "Requirement already satisfied: networkx in c:\\users\\barma\\appdata\\roaming\\python\\python313\\site-packages (from torch>=1.8.0->ultralytics) (3.4.2)\n",
      "Requirement already satisfied: jinja2 in c:\\users\\barma\\appdata\\roaming\\python\\python313\\site-packages (from torch>=1.8.0->ultralytics) (3.1.6)\n",
      "Requirement already satisfied: fsspec in c:\\users\\barma\\appdata\\roaming\\python\\python313\\site-packages (from torch>=1.8.0->ultralytics) (2025.3.2)\n",
      "Requirement already satisfied: setuptools in c:\\users\\barma\\appdata\\roaming\\python\\python313\\site-packages (from torch>=1.8.0->ultralytics) (80.4.0)\n",
      "Requirement already satisfied: mpmath<1.4,>=1.1.0 in c:\\users\\barma\\appdata\\roaming\\python\\python313\\site-packages (from sympy>=1.13.3->torch>=1.8.0->ultralytics) (1.3.0)\n",
      "Requirement already satisfied: colorama in c:\\users\\barma\\appdata\\roaming\\python\\python313\\site-packages (from tqdm>=4.64.0->ultralytics) (0.4.6)\n",
      "Requirement already satisfied: MarkupSafe>=2.0 in c:\\users\\barma\\appdata\\roaming\\python\\python313\\site-packages (from jinja2->torch>=1.8.0->ultralytics) (3.0.2)\n",
      "Note: you may need to restart the kernel to use updated packages.\n"
     ]
    }
   ],
   "source": [
    "pip install ultralytics   "
   ]
  },
  {
   "cell_type": "code",
   "execution_count": null,
   "id": "89ccbbd7",
   "metadata": {},
   "outputs": [],
   "source": [
    "pip install pygame"
   ]
  },
  {
   "cell_type": "code",
   "execution_count": 6,
   "id": "ab9d12cb",
   "metadata": {},
   "outputs": [],
   "source": [
    "from ultralytics import YOLO\n",
    "import cv2\n",
    "import pygame\n",
    "import threading\n",
    "\n",
    "# Initialize alarm system\n",
    "pygame.mixer.init()\n",
    "pygame.mixer.music.load(\"alarm.mp3\")  # Your alarm sound file\n",
    "\n",
    "# Function to play alarm sound in a separate thread\n",
    "def play_alarm():\n",
    "    if not pygame.mixer.music.get_busy():\n",
    "        pygame.mixer.music.play()\n",
    "\n",
    "# Harmful objects to detect\n",
    "harmful_objects = {\"knife\", \"gun\", \"weapon\", \"rifle\", \"pistol\"}  # You can modify this list\n",
    "\n",
    "# Load the YOLOv8 model (using yolov8s for speed)\n",
    "model = YOLO(\"yolov8s.pt\")\n",
    "\n",
    "# Open the webcam\n",
    "cap = cv2.VideoCapture(0)\n",
    "if not cap.isOpened():\n",
    "    print(\"Error: Could not open webcam.\")\n",
    "    exit()\n",
    "\n",
    "while True:\n",
    "    ret, frame = cap.read()\n",
    "    if not ret:\n",
    "        break\n",
    "\n",
    "    # Run YOLOv8 detection\n",
    "    results = model.predict(source=frame, conf=0.5, verbose=False)\n",
    "\n",
    "    # Extract detected classes\n",
    "    detected_names = results[0].names\n",
    "    detected_classes = results[0].boxes.cls.cpu().numpy()\n",
    "\n",
    "    # Check for harmful object detection\n",
    "    for cls_id in detected_classes:\n",
    "        label = detected_names[int(cls_id)].lower()\n",
    "        if label in harmful_objects:\n",
    "            threading.Thread(target=play_alarm).start()  # Play alarm in a new thread\n",
    "            break  # One alert per frame is enough\n",
    "\n",
    "    # Show results\n",
    "    annotated_frame = results[0].plot()\n",
    "    cv2.imshow(\"YOLOv8 - Smart Surveillance\", annotated_frame)\n",
    "\n",
    "    # Exit on any key press\n",
    "    if cv2.waitKey(1) != -1:\n",
    "        break\n",
    "\n",
    "cap.release()\n",
    "cv2.destroyAllWindows()\n"
   ]
  }
 ],
 "metadata": {
  "kernelspec": {
   "display_name": "Python 3",
   "language": "python",
   "name": "python3"
  },
  "language_info": {
   "codemirror_mode": {
    "name": "ipython",
    "version": 3
   },
   "file_extension": ".py",
   "mimetype": "text/x-python",
   "name": "python",
   "nbconvert_exporter": "python",
   "pygments_lexer": "ipython3",
   "version": "3.13.2"
  }
 },
 "nbformat": 4,
 "nbformat_minor": 5
}
